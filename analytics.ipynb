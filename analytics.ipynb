{
 "cells": [
  {
   "cell_type": "code",
   "execution_count": null,
   "metadata": {},
   "outputs": [],
   "source": [
    "import pandas as pd\n",
    "import numpy as np\n",
    "\n",
    "class CustomerAnalytics:\n",
    "    def __init__(self, data: pd.DataFrame):\n",
    "        if not isinstance(data, pd.DataFrame):\n",
    "            raise TypeError(\"Expected a pandas DataFrame\")\n",
    "        if 'customer_id' not in data.columns or 'purchase_amount' not in data.columns:\n",
    "            raise ValueError(\"Missing required columns\")\n",
    "        self.data = data.copy()\n",
    "        self.cleaned = False\n",
    "\n",
    "    def clean_data(self):\n",
    "        # Remove duplicates and fill missing purchase amounts with 0\n",
    "        self.data.drop_duplicates(subset='customer_id', inplace=True)\n",
    "        self.data['purchase_amount'].fillna(0, inplace=True)\n",
    "        self.cleaned = True\n",
    "\n",
    "    def calculate_total_spent(self):\n",
    "        if not self.cleaned:\n",
    "            raise RuntimeError(\"Data must be cleaned before calculation\")\n",
    "        return self.data.groupby('customer_id')['purchase_amount'].sum().reset_index(name='total_spent')\n",
    "\n",
    "    def get_top_customers(self, n=5):\n",
    "        totals = self.calculate_total_spent()\n",
    "        return totals.sort_values(by='total_spent', ascending=False).head(n)\n",
    "\n",
    "    def flag_high_value_customers(self, threshold=1000):\n",
    "        totals = self.calculate_total_spent()\n",
    "        totals['high_value'] = totals['total_spent'] > threshold\n",
    "        return totals\n"
   ]
  }
 ],
 "metadata": {
  "language_info": {
   "name": "python"
  }
 },
 "nbformat": 4,
 "nbformat_minor": 2
}
